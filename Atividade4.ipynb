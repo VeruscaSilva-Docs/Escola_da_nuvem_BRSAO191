{
  "nbformat": 4,
  "nbformat_minor": 0,
  "metadata": {
    "colab": {
      "provenance": [],
      "authorship_tag": "ABX9TyOXOf7iuxldITzp9Yz3Z6vB",
      "include_colab_link": true
    },
    "kernelspec": {
      "name": "python3",
      "display_name": "Python 3"
    },
    "language_info": {
      "name": "python"
    }
  },
  "cells": [
    {
      "cell_type": "markdown",
      "metadata": {
        "id": "view-in-github",
        "colab_type": "text"
      },
      "source": [
        "<a href=\"https://colab.research.google.com/github/VeruscaSilva-Docs/Escola_da_nuvem_BRSAO191/blob/main/Atividade4.ipynb\" target=\"_parent\"><img src=\"https://colab.research.google.com/assets/colab-badge.svg\" alt=\"Open In Colab\"/></a>"
      ]
    },
    {
      "cell_type": "markdown",
      "source": [
        "1 - Criar um código que faça uma calculadora que tenha as operações básicas(+,-,*,/)."
      ],
      "metadata": {
        "id": "H_a4t_xgTjhC"
      }
    },
    {
      "cell_type": "code",
      "execution_count": 1,
      "metadata": {
        "colab": {
          "base_uri": "https://localhost:8080/"
        },
        "id": "usUmoGAjTh-q",
        "outputId": "a3bfdc01-4182-4c37-e7a0-fb4092a276ea"
      },
      "outputs": [
        {
          "output_type": "stream",
          "name": "stdout",
          "text": [
            "Calculadora Simples\n",
            "Operações disponíveis:\n",
            "1 - Adição (+)\n",
            "2 - Subtração (-)\n",
            "3 - Multiplicação (*)\n",
            "4 - Divisão (/)\n",
            "Escolha a operação (1/2/3/4): 1\n",
            "Digite o primeiro número: 5\n",
            "Digite o segundo número: 2\n",
            "\n",
            "Resultado: 5.0 + 2.0 = 7.0\n"
          ]
        }
      ],
      "source": [
        "def calculadora():\n",
        "    print(\"Calculadora Simples\")\n",
        "    print(\"Operações disponíveis:\")\n",
        "    print(\"1 - Adição (+)\")\n",
        "    print(\"2 - Subtração (-)\")\n",
        "    print(\"3 - Multiplicação (*)\")\n",
        "    print(\"4 - Divisão (/)\")\n",
        "\n",
        "    operacao = input(\"Escolha a operação (1/2/3/4): \")\n",
        "\n",
        "    if operacao in ['1', '2', '3', '4']:\n",
        "        try:\n",
        "            num1 = float(input(\"Digite o primeiro número: \"))\n",
        "            num2 = float(input(\"Digite o segundo número: \"))\n",
        "\n",
        "            if operacao == '1':\n",
        "                resultado = num1 + num2\n",
        "                operador = '+'\n",
        "            elif operacao == '2':\n",
        "                resultado = num1 - num2\n",
        "                operador = '-'\n",
        "            elif operacao == '3':\n",
        "                resultado = num1 * num2\n",
        "                operador = '*'\n",
        "            elif operacao == '4':\n",
        "                if num2 == 0:\n",
        "                    print(\"Erro: Divisão por zero não é permitida.\")\n",
        "                    return\n",
        "                resultado = num1 / num2\n",
        "                operador = '/'\n",
        "\n",
        "            print(f\"\\nResultado: {num1} {operador} {num2} = {resultado}\")\n",
        "        except ValueError:\n",
        "            print(\"Erro: Entrada inválida. Use apenas números.\")\n",
        "    else:\n",
        "        print(\"Operação inválida. Por favor, escolha 1, 2, 3 ou 4.\")\n",
        "\n",
        "# Executa a calculadora\n",
        "calculadora()\n"
      ]
    },
    {
      "cell_type": "markdown",
      "source": [
        "2 - Criar um código que registre as notas de alunos e calcular a média da turma."
      ],
      "metadata": {
        "id": "iTnsbA6PTy3v"
      }
    },
    {
      "cell_type": "code",
      "source": [
        "def calcular_media_turma():\n",
        "    print(\"Registro de Notas dos Alunos\")\n",
        "    alunos = []\n",
        "    total_notas = 0\n",
        "\n",
        "    while True:\n",
        "        nome = input(\"Digite o nome do aluno (ou 'sair' para finalizar): \")\n",
        "        if nome.lower() == 'sair':\n",
        "            break\n",
        "\n",
        "        try:\n",
        "            nota = float(input(f\"Digite a nota do(a) {nome}: \"))\n",
        "            if nota < 0 or nota > 10:\n",
        "                print(\"Nota inválida. Digite um valor entre 0 e 10.\")\n",
        "                continue\n",
        "\n",
        "            alunos.append((nome, nota))\n",
        "            total_notas += nota\n",
        "        except ValueError:\n",
        "            print(\"Erro: Digite um valor numérico válido.\")\n",
        "\n",
        "    if len(alunos) == 0:\n",
        "        print(\"Nenhum aluno registrado.\")\n",
        "    else:\n",
        "        media = total_notas / len(alunos)\n",
        "        print(\"\\nNotas dos alunos:\")\n",
        "        for aluno, nota in alunos:\n",
        "            print(f\"{aluno}: {nota}\")\n",
        "        print(f\"\\nMédia da turma: {media:.2f}\")\n",
        "\n",
        "# Executa a função\n",
        "calcular_media_turma()"
      ],
      "metadata": {
        "colab": {
          "base_uri": "https://localhost:8080/"
        },
        "id": "eFIJ1wvmT2fK",
        "outputId": "a3b2997d-6fbc-43f8-df87-7b3750cd755c"
      },
      "execution_count": 2,
      "outputs": [
        {
          "output_type": "stream",
          "name": "stdout",
          "text": [
            "Registro de Notas dos Alunos\n",
            "Digite o nome do aluno (ou 'sair' para finalizar): verusca\n",
            "Digite a nota do(a) verusca: 8\n",
            "Digite o nome do aluno (ou 'sair' para finalizar): paulo\n",
            "Digite a nota do(a) paulo: 5\n",
            "Digite o nome do aluno (ou 'sair' para finalizar): sair\n",
            "\n",
            "Notas dos alunos:\n",
            "verusca: 8.0\n",
            "paulo: 5.0\n",
            "\n",
            "Média da turma: 6.50\n"
          ]
        }
      ]
    },
    {
      "cell_type": "markdown",
      "source": [
        "3 - Criar um código que serve para verificar se uma senha digitada pelo usuário atende a critérios básicos de segurança.\n",
        "a - deve ter pelo menos 8 caracteres.\n",
        "b - deve conter pelo menos um número."
      ],
      "metadata": {
        "id": "w4fuOzY0Ub3l"
      }
    },
    {
      "cell_type": "code",
      "source": [
        "def verificar_senha():\n",
        "    print(\"Verificador de Senha Segura\")\n",
        "    senha = input(\"Digite uma senha: \")\n",
        "\n",
        "    # Verifica se tem pelo menos 8 caracteres\n",
        "    comprimento_valido = len(senha) >= 8\n",
        "\n",
        "    # Verifica se contém pelo menos um número\n",
        "    contem_numero = any(char.isdigit() for char in senha)\n",
        "\n",
        "    # Resultado\n",
        "    if comprimento_valido and contem_numero:\n",
        "        print(\"✅ Senha válida!\")\n",
        "    else:\n",
        "        print(\"❌ Senha inválida. Motivos:\")\n",
        "        if not comprimento_valido:\n",
        "            print(\"- A senha deve ter pelo menos 8 caracteres.\")\n",
        "        if not contem_numero:\n",
        "            print(\"- A senha deve conter pelo menos um número.\")\n",
        "\n",
        "# Executa a função\n",
        "verificar_senha()"
      ],
      "metadata": {
        "colab": {
          "base_uri": "https://localhost:8080/"
        },
        "id": "w80nrADrUfZM",
        "outputId": "a0de0a51-f2d3-41af-dbf7-59b6affa17e3"
      },
      "execution_count": 4,
      "outputs": [
        {
          "output_type": "stream",
          "name": "stdout",
          "text": [
            "Verificador de Senha Segura\n",
            "Digite uma senha: 22525241\n",
            "✅ Senha válida!\n"
          ]
        }
      ]
    },
    {
      "cell_type": "markdown",
      "source": [
        "4 - Criar um código que serve para analisar números digitados pelo usuário, classificando-os como pares ou ímpares e contabilizando quantos de cada tipo foram inseridos."
      ],
      "metadata": {
        "id": "kNV6ZC0XU4qK"
      }
    },
    {
      "cell_type": "code",
      "source": [
        "def analisar_numeros():\n",
        "    print(\"Analisador de Números (Par ou Ímpar)\")\n",
        "    numeros = []\n",
        "\n",
        "    while True:\n",
        "        entrada = input(\"Digite um número (ou 'sair' para encerrar): \")\n",
        "        if entrada.lower() == 'sair':\n",
        "            break\n",
        "        try:\n",
        "            numero = int(entrada)\n",
        "            numeros.append(numero)\n",
        "        except ValueError:\n",
        "            print(\"Por favor, digite um número inteiro válido ou 'sair'.\")\n",
        "\n",
        "    pares = [num for num in numeros if num % 2 == 0]\n",
        "    impares = [num for num in numeros if num % 2 != 0]\n",
        "\n",
        "    print(\"\\nResumo:\")\n",
        "    print(f\"Números pares: {pares} (total: {len(pares)})\")\n",
        "    print(f\"Números ímpares: {impares} (total: {len(impares)})\")\n",
        "\n",
        "# Executa a função\n",
        "analisar_numeros()"
      ],
      "metadata": {
        "colab": {
          "base_uri": "https://localhost:8080/"
        },
        "id": "ilhR5v5bU5zQ",
        "outputId": "a57dd19b-f952-44e7-d1e9-388dfb63c1d6"
      },
      "execution_count": 5,
      "outputs": [
        {
          "output_type": "stream",
          "name": "stdout",
          "text": [
            "Analisador de Números (Par ou Ímpar)\n",
            "Digite um número (ou 'sair' para encerrar): 3\n",
            "Digite um número (ou 'sair' para encerrar): 3\n",
            "Digite um número (ou 'sair' para encerrar): 5\n",
            "Digite um número (ou 'sair' para encerrar): 4\n",
            "Digite um número (ou 'sair' para encerrar): sair\n",
            "\n",
            "Resumo:\n",
            "Números pares: [4] (total: 1)\n",
            "Números ímpares: [3, 3, 5] (total: 3)\n"
          ]
        }
      ]
    }
  ]
}