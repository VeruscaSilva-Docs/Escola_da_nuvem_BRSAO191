{
  "nbformat": 4,
  "nbformat_minor": 0,
  "metadata": {
    "colab": {
      "provenance": [],
      "authorship_tag": "ABX9TyNC8XLlsTnGcRf/06kI9PFp",
      "include_colab_link": true
    },
    "kernelspec": {
      "name": "python3",
      "display_name": "Python 3"
    },
    "language_info": {
      "name": "python"
    }
  },
  "cells": [
    {
      "cell_type": "markdown",
      "metadata": {
        "id": "view-in-github",
        "colab_type": "text"
      },
      "source": [
        "<a href=\"https://colab.research.google.com/github/VeruscaSilva-Docs/Escola_da_nuvem_BRSAO191/blob/main/AtividadePratica2.ipynb\" target=\"_parent\"><img src=\"https://colab.research.google.com/assets/colab-badge.svg\" alt=\"Open In Colab\"/></a>"
      ]
    },
    {
      "cell_type": "markdown",
      "source": [
        "# 1)Crie um programa que converte um valor em reais para dólares e euros. Use os seguintes dados:\n",
        "\n",
        "* Valor em reais: R$ 100.00\n",
        "\n",
        "* Taxa do dólar: R$ 5.20\n",
        "\n",
        "* Taxa do euro: R$ 6.15\n",
        "\n",
        "O programa deve calcular e exibir os valores convertidos, arredondando para duas casas decimais."
      ],
      "metadata": {
        "id": "oeaIEOVrxtAy"
      }
    },
    {
      "cell_type": "code",
      "execution_count": 1,
      "metadata": {
        "colab": {
          "base_uri": "https://localhost:8080/"
        },
        "id": "pa3zrQ4Oxgxl",
        "outputId": "7f48bb9d-a09b-4cee-8e67-6941a20cef19"
      },
      "outputs": [
        {
          "output_type": "stream",
          "name": "stdout",
          "text": [
            "Valor em reais: R$ 100.00\n",
            "Valor em dólares: US$ 19.23\n",
            "Valor em euros: € 16.26\n"
          ]
        }
      ],
      "source": [
        "# Dados fornecidos\n",
        "valor_em_reais = 100.00\n",
        "taxa_dolar = 5.20\n",
        "taxa_euro = 6.15\n",
        "\n",
        "# Conversões\n",
        "valor_em_dolar = valor_em_reais / taxa_dolar\n",
        "valor_em_euro = valor_em_reais / taxa_euro\n",
        "\n",
        "# Exibição com duas casas decimais\n",
        "print(f\"Valor em reais: R$ {valor_em_reais:.2f}\")\n",
        "print(f\"Valor em dólares: US$ {valor_em_dolar:.2f}\")\n",
        "print(f\"Valor em euros: € {valor_em_euro:.2f}\")"
      ]
    },
    {
      "cell_type": "markdown",
      "source": [
        "#2- Calculadora de Desconto\n",
        "Desenvolva um programa que calcula o desconto em uma loja. Use as seguintes informações:\n",
        "\n",
        "* Nome do produto: \"Camiseta\"\n",
        "* Preço original: R$ 50.00\n",
        "* Porcentagem de desconto: 20%\n",
        "O programa deve calcular o valor do desconto e o preço final, exibindo todos os detalhes.\n",
        "\n",
        "```\n",
        "# Isto está formatado como código\n",
        "```\n",
        "\n"
      ],
      "metadata": {
        "id": "ynGLpjMayWt_"
      }
    },
    {
      "cell_type": "code",
      "source": [
        "# Informações do produto\n",
        "nome_produto = \"Camiseta\"\n",
        "preco_original = 50.00\n",
        "porcentagem_desconto = 20  # em %\n",
        "\n",
        "# Cálculo do desconto\n",
        "valor_desconto = preco_original * (porcentagem_desconto / 100)\n",
        "preco_final = preco_original - valor_desconto\n",
        "\n",
        "# Exibição dos resultados\n",
        "print(\"=== Cálculo de Desconto ===\")\n",
        "print(f\"Produto: {nome_produto}\")\n",
        "print(f\"Preço original: R$ {preco_original:.2f}\")\n",
        "print(f\"Desconto: {porcentagem_desconto}%\")\n",
        "print(f\"Valor do desconto: R$ {valor_desconto:.2f}\")\n",
        "print(f\"Preço com desconto: R$ {preco_final:.2f}\")"
      ],
      "metadata": {
        "colab": {
          "base_uri": "https://localhost:8080/"
        },
        "id": "94_izobAydk4",
        "outputId": "bf90098b-484d-40c5-a4d5-0fd882276ee2"
      },
      "execution_count": 2,
      "outputs": [
        {
          "output_type": "stream",
          "name": "stdout",
          "text": [
            "=== Cálculo de Desconto ===\n",
            "Produto: Camiseta\n",
            "Preço original: R$ 50.00\n",
            "Desconto: 20%\n",
            "Valor do desconto: R$ 10.00\n",
            "Preço com desconto: R$ 40.00\n"
          ]
        }
      ]
    },
    {
      "cell_type": "markdown",
      "source": [
        "#3- Calculadora de Média Escolar\n",
        "Crie um programa que calcula a média escolar de um aluno. Use as seguintes notas:\n",
        "\n",
        "* Nota 1: 7.5\n",
        "* Nota 2: 8.0\n",
        "* Nota 3: 6.5\n",
        "O programa deve calcular a média e exibir todas as notas e o resultado final, arredondando para duas casas decimais."
      ],
      "metadata": {
        "id": "brQZNdOEyw7V"
      }
    },
    {
      "cell_type": "code",
      "source": [
        "# Notas do aluno\n",
        "nota1 = 7.5\n",
        "nota2 = 8.0\n",
        "nota3 = 6.5\n",
        "\n",
        "# Cálculo da média\n",
        "media = (nota1 + nota2 + nota3) / 3\n",
        "\n",
        "# Exibição dos resultados\n",
        "print(\"=== Cálculo da Média Escolar ===\")\n",
        "print(f\"Nota 1: {nota1:.2f}\")\n",
        "print(f\"Nota 2: {nota2:.2f}\")\n",
        "print(f\"Nota 3: {nota3:.2f}\")\n",
        "print(f\"Média final: {media:.2f}\")"
      ],
      "metadata": {
        "colab": {
          "base_uri": "https://localhost:8080/"
        },
        "id": "l97Ml5Jcy9cw",
        "outputId": "4169aab2-f666-45f0-9512-58d2f7860d41"
      },
      "execution_count": 3,
      "outputs": [
        {
          "output_type": "stream",
          "name": "stdout",
          "text": [
            "=== Cálculo da Média Escolar ===\n",
            "Nota 1: 7.50\n",
            "Nota 2: 8.00\n",
            "Nota 3: 6.50\n",
            "Média final: 7.33\n"
          ]
        }
      ]
    },
    {
      "cell_type": "markdown",
      "source": [
        "#4- Calculadora de Consumo de Combustível\n",
        "Desenvolva um programa que calcula o consumo médio de combustível de um veículo. Use os seguintes dados:\n",
        "\n",
        "* Distância percorrida: 300 km\n",
        "* Combustível gasto: 25 litros\n",
        "O programa deve calcular o consumo médio (km/l) e exibir todos os dados da viagem, incluindo o resultado final arredondado para duas casas decimais."
      ],
      "metadata": {
        "id": "yDRZhrp3zcTS"
      }
    },
    {
      "cell_type": "code",
      "source": [
        "# Dados da viagem\n",
        "distancia_percorrida = 300  # em km\n",
        "combustivel_gasto = 25      # em litros\n",
        "\n",
        "# Cálculo do consumo médio\n",
        "consumo_medio = distancia_percorrida / combustivel_gasto\n",
        "\n",
        "# Exibição dos resultados\n",
        "print(\"=== Cálculo de Consumo de Combustível ===\")\n",
        "print(f\"Distância percorrida: {distancia_percorrida} km\")\n",
        "print(f\"Combustível gasto: {combustivel_gasto} litros\")\n",
        "print(f\"Consumo médio: {consumo_medio:.2f} km/l\")"
      ],
      "metadata": {
        "colab": {
          "base_uri": "https://localhost:8080/"
        },
        "id": "ZbV9SLbyzpDg",
        "outputId": "d7aef7bd-5abf-4ddf-b74c-80acc5fa3aca"
      },
      "execution_count": 4,
      "outputs": [
        {
          "output_type": "stream",
          "name": "stdout",
          "text": [
            "=== Cálculo de Consumo de Combustível ===\n",
            "Distância percorrida: 300 km\n",
            "Combustível gasto: 25 litros\n",
            "Consumo médio: 12.00 km/l\n"
          ]
        }
      ]
    }
  ]
}