{
  "nbformat": 4,
  "nbformat_minor": 0,
  "metadata": {
    "colab": {
      "provenance": [],
      "authorship_tag": "ABX9TyM9iVDDOX3h3GizQrkqa2nC",
      "include_colab_link": true
    },
    "kernelspec": {
      "name": "python3",
      "display_name": "Python 3"
    },
    "language_info": {
      "name": "python"
    }
  },
  "cells": [
    {
      "cell_type": "markdown",
      "metadata": {
        "id": "view-in-github",
        "colab_type": "text"
      },
      "source": [
        "<a href=\"https://colab.research.google.com/github/VeruscaSilva-Docs/Escola_da_nuvem_BRSAO191/blob/main/Atividade6.ipynb\" target=\"_parent\"><img src=\"https://colab.research.google.com/assets/colab-badge.svg\" alt=\"Open In Colab\"/></a>"
      ]
    },
    {
      "cell_type": "markdown",
      "source": [
        "Crie um programa que gera uma senha aleatória com o módulo\n",
        "random, utilizando caracteres especiais, possibilitando o\n",
        "usuário a informar a quantidade de caracteres dessa senha\n",
        "aleatória."
      ],
      "metadata": {
        "id": "I7UqqTg1zjgV"
      }
    },
    {
      "cell_type": "code",
      "execution_count": 2,
      "metadata": {
        "colab": {
          "base_uri": "https://localhost:8080/"
        },
        "id": "VIbfMkNHzhm2",
        "outputId": "f79658bd-771e-445a-ccdf-908209343970"
      },
      "outputs": [
        {
          "output_type": "stream",
          "name": "stdout",
          "text": [
            "Digite o tamanho desejado para a senha: 12\n",
            "Senha gerada: DNTD^w$/tJ@a\n"
          ]
        }
      ],
      "source": [
        "import random\n",
        "import string\n",
        "\n",
        "def gerar_senha(tamanho):\n",
        "    # Define os caracteres possíveis: letras, números e especiais\n",
        "    caracteres = string.ascii_letters + string.digits + string.punctuation\n",
        "    # Gera a senha aleatória\n",
        "    senha = ''.join(random.choice(caracteres) for _ in range(tamanho))\n",
        "    return senha\n",
        "\n",
        "# Solicita ao usuário o tamanho da senha\n",
        "try:\n",
        "    tamanho = int(input(\"Digite o tamanho desejado para a senha: \"))\n",
        "    if tamanho <= 0:\n",
        "        print(\"Por favor, digite um número maior que zero.\")\n",
        "    else:\n",
        "        senha_gerada = gerar_senha(tamanho)\n",
        "        print(\"Senha gerada:\", senha_gerada)\n",
        "except ValueError:\n",
        "    print(\"Por favor, digite um número válido.\")"
      ]
    },
    {
      "cell_type": "markdown",
      "source": [
        " Crie um programa que gera um perfil de usuário aleatório usando a\n",
        "API 'Random User Generator'. O programa deve exibir o nome, email e\n",
        "país do usuário gerado.\""
      ],
      "metadata": {
        "id": "tiIsF5Saz39V"
      }
    },
    {
      "cell_type": "code",
      "source": [
        "import requests\n",
        "\n",
        "def gerar_usuario():\n",
        "    url = 'https://randomuser.me/api/'\n",
        "    try:\n",
        "        resposta = requests.get(url)\n",
        "        if resposta.status_code == 200:\n",
        "            dados = resposta.json()\n",
        "            usuario = dados['results'][0]\n",
        "\n",
        "            nome = f\"{usuario['name']['first']} {usuario['name']['last']}\"\n",
        "            email = usuario['email']\n",
        "            pais = usuario['location']['country']\n",
        "\n",
        "            print(\"=== Perfil de Usuário Gerado ===\")\n",
        "            print(f\"Nome : {nome}\")\n",
        "            print(f\"E-mail: {email}\")\n",
        "            print(f\"País : {pais}\")\n",
        "        else:\n",
        "            print(\"Erro ao acessar a API. Código de status:\", resposta.status_code)\n",
        "    except Exception as e:\n",
        "        print(\"Erro ao fazer requisição:\", e)\n",
        "\n",
        "# Chamar a função\n",
        "gerar_usuario()"
      ],
      "metadata": {
        "colab": {
          "base_uri": "https://localhost:8080/"
        },
        "id": "Dnjq5Zcfz9X7",
        "outputId": "cc6ad8fd-c21d-4ad4-c038-41d738eead16"
      },
      "execution_count": 4,
      "outputs": [
        {
          "output_type": "stream",
          "name": "stdout",
          "text": [
            "=== Perfil de Usuário Gerado ===\n",
            "Nome : Marlen Masson\n",
            "E-mail: marlen.masson@example.com\n",
            "País : Switzerland\n"
          ]
        }
      ]
    },
    {
      "cell_type": "markdown",
      "source": [
        "Desenvolva um programa que consulte informações de\n",
        "endereço a partir de um CEP fornecido pelo usuário, utilizando\n",
        "a API ViaCEP. O programa deve exibir o logradouro, bairro,\n",
        "cidade e estado correspondentes ao CEP consultado."
      ],
      "metadata": {
        "id": "RVHU8LDl0bMN"
      }
    },
    {
      "cell_type": "code",
      "source": [
        "import requests\n",
        "\n",
        "def consultar_cep(cep):\n",
        "    url = f'https://viacep.com.br/ws/{cep}/json/'\n",
        "\n",
        "    try:\n",
        "        resposta = requests.get(url)\n",
        "        if resposta.status_code == 200:\n",
        "            dados = resposta.json()\n",
        "            if \"erro\" in dados:\n",
        "                print(\"CEP não encontrado. Verifique se está correto.\")\n",
        "            else:\n",
        "                print(\"=== Endereço Encontrado ===\")\n",
        "                print(f\"Logradouro: {dados.get('logradouro', 'N/A')}\")\n",
        "                print(f\"Bairro    : {dados.get('bairro', 'N/A')}\")\n",
        "                print(f\"Cidade    : {dados.get('localidade', 'N/A')}\")\n",
        "                print(f\"Estado    : {dados.get('uf', 'N/A')}\")\n",
        "        else:\n",
        "            print(\"Erro ao acessar a API. Código de status:\", resposta.status_code)\n",
        "    except Exception as e:\n",
        "        print(\"Erro na requisição:\", e)\n",
        "\n",
        "# Solicita o CEP ao usuário\n",
        "cep_usuario = input(\"Digite o CEP (somente números): \").strip()\n",
        "\n",
        "# Validação simples de CEP\n",
        "if len(cep_usuario) == 8 and cep_usuario.isdigit():\n",
        "    consultar_cep(cep_usuario)\n",
        "else:\n",
        "    print(\"CEP inválido! Certifique-se de digitar 8 números.\")"
      ],
      "metadata": {
        "colab": {
          "base_uri": "https://localhost:8080/"
        },
        "id": "jiMOW1Fo0bst",
        "outputId": "16dd25ed-faaf-48bf-cc1b-15c9e20a6cb1"
      },
      "execution_count": 5,
      "outputs": [
        {
          "output_type": "stream",
          "name": "stdout",
          "text": [
            "Digite o CEP (somente números): 25535120\n",
            "=== Endereço Encontrado ===\n",
            "Logradouro: Rua Ceci\n",
            "Bairro    : Éden\n",
            "Cidade    : São João de Meriti\n",
            "Estado    : RJ\n"
          ]
        }
      ]
    },
    {
      "cell_type": "markdown",
      "source": [
        "- Crie um programa que consulte a cotação atual de uma moeda\n",
        "estrangeira em relação ao Real Brasileiro (BRL). O usuário\n",
        "deve informar o código da moeda desejada (ex: USD, EUR, GBP), e o programa deve exibir o valor atual, máximo e mínimo\n",
        "da cotação, além da data e hora da última atualização. Utilize\n",
        "a API da AwesomeAPI para obter os dados de cotação.\n"
      ],
      "metadata": {
        "id": "eSeCABQU0nqc"
      }
    },
    {
      "cell_type": "code",
      "source": [
        "import requests\n",
        "\n",
        "def consultar_cotacao(moeda):\n",
        "    url = f\"https://economia.awesomeapi.com.br/json/last/{moeda}-BRL\"\n",
        "\n",
        "    try:\n",
        "        resposta = requests.get(url)\n",
        "        if resposta.status_code == 200:\n",
        "            dados = resposta.json()\n",
        "\n",
        "            par = f\"{moeda}BRL\"\n",
        "            if par in dados:\n",
        "                info = dados[par]\n",
        "                print(f\"\\n=== Cotação {moeda} para BRL ===\")\n",
        "                print(f\"Moeda        : {info['name']}\")\n",
        "                print(f\"Valor atual  : R$ {info['bid']}\")\n",
        "                print(f\"Máximo do dia: R$ {info['high']}\")\n",
        "                print(f\"Mínimo do dia: R$ {info['low']}\")\n",
        "                print(f\"Atualizado em: {info['create_date']}\")\n",
        "            else:\n",
        "                print(\"Moeda não encontrada. Verifique o código e tente novamente.\")\n",
        "        else:\n",
        "            print(\"Erro na consulta. Código de status:\", resposta.status_code)\n",
        "    except Exception as e:\n",
        "        print(\"Erro na requisição:\", e)\n",
        "\n",
        "# Solicita o código da moeda ao usuário\n",
        "moeda_usuario = input(\"Digite o código da moeda (ex: USD, EUR, GBP): \").strip().upper()\n",
        "\n",
        "# Chamada da função\n",
        "consultar_cotacao(moeda_usuario)"
      ],
      "metadata": {
        "colab": {
          "base_uri": "https://localhost:8080/"
        },
        "id": "PTDn-rja1QGj",
        "outputId": "59cbc72f-daff-44b5-fe94-6271a7b74066"
      },
      "execution_count": 6,
      "outputs": [
        {
          "output_type": "stream",
          "name": "stdout",
          "text": [
            "Digite o código da moeda (ex: USD, EUR, GBP): usd\n",
            "\n",
            "=== Cotação USD para BRL ===\n",
            "Moeda        : Dólar Americano/Real Brasileiro\n",
            "Valor atual  : R$ 5.5338\n",
            "Máximo do dia: R$ 5.6266\n",
            "Mínimo do dia: R$ 5.52059\n",
            "Atualizado em: 2025-08-01 18:14:40\n"
          ]
        }
      ]
    }
  ]
}