{
  "nbformat": 4,
  "nbformat_minor": 0,
  "metadata": {
    "colab": {
      "provenance": [],
      "authorship_tag": "ABX9TyPfYcTQGUu94TifIxbxtcE2",
      "include_colab_link": true
    },
    "kernelspec": {
      "name": "python3",
      "display_name": "Python 3"
    },
    "language_info": {
      "name": "python"
    }
  },
  "cells": [
    {
      "cell_type": "markdown",
      "metadata": {
        "id": "view-in-github",
        "colab_type": "text"
      },
      "source": [
        "<a href=\"https://colab.research.google.com/github/VeruscaSilva-Docs/Escola_da_nuvem_BRSAO191/blob/main/atividade5.ipynb\" target=\"_parent\"><img src=\"https://colab.research.google.com/assets/colab-badge.svg\" alt=\"Open In Colab\"/></a>"
      ]
    },
    {
      "cell_type": "markdown",
      "source": [
        "ATIVIDADE 5"
      ],
      "metadata": {
        "id": "En5NrMWGh7M2"
      }
    },
    {
      "cell_type": "code",
      "execution_count": 1,
      "metadata": {
        "id": "0-93Zh0lh57u"
      },
      "outputs": [],
      "source": [
        "def calcular_gorjeta(valor_conta: float, porcentagem_gorjeta: float) -> float:\n",
        "    \"\"\"\n",
        "    Calcula o valor da gorjeta com base no valor da conta e na porcentagem da gorjeta.\n",
        "\n",
        "    Parâmetros:\n",
        "    valor_conta (float): O valor total da conta.\n",
        "    porcentagem_gorjeta (float): A porcentagem da gorjeta (ex: 10 para 10%).\n",
        "\n",
        "    Retorna:\n",
        "    float: O valor da gorjeta calculada.\n",
        "    \"\"\"\n",
        "    gorjeta = valor_conta * (porcentagem_gorjeta / 100)\n",
        "    return gorjeta\n"
      ]
    },
    {
      "cell_type": "code",
      "source": [
        "import string\n",
        "\n",
        "def eh_palindromo(texto: str) -> str:\n",
        "    \"\"\"\n",
        "    Verifica se uma palavra ou frase é um palíndromo.\n",
        "    Ignora espaços, pontuação e diferenciação entre maiúsculas e minúsculas.\n",
        "\n",
        "    Parâmetros:\n",
        "    texto (str): A palavra ou frase a ser verificada.\n",
        "\n",
        "    Retorna:\n",
        "    str: \"Sim\" se for palíndromo, \"Não\" caso contrário.\n",
        "    \"\"\"\n",
        "    # Remove espaços, pontuação e transforma em minúsculas\n",
        "    texto_limpo = ''.join(\n",
        "        caractere.lower() for caractere in texto\n",
        "        if caractere.isalnum()\n",
        "    )\n",
        "\n",
        "    # Verifica se é igual ao reverso\n",
        "    if texto_limpo == texto_limpo[::-1]:\n",
        "        return \"Sim\"\n",
        "    else:\n",
        "        return \"Não\""
      ],
      "metadata": {
        "id": "mSwj_pNJi2xz"
      },
      "execution_count": 2,
      "outputs": []
    },
    {
      "cell_type": "code",
      "source": [
        "def eh_palindromo(texto):\n",
        "    texto = ''.join(c.lower() for c in texto if c.isalnum())\n",
        "    if texto == texto[::-1]:\n",
        "        return \"Sim\"\n",
        "    else:\n",
        "        return \"Não\""
      ],
      "metadata": {
        "id": "j1piB_NhjB88"
      },
      "execution_count": 3,
      "outputs": []
    },
    {
      "cell_type": "code",
      "source": [
        "def calcular_preco_com_desconto(preco_original, porcentagem_desconto):\n",
        "    desconto = preco_original * (porcentagem_desconto / 100)\n",
        "    preco_final = preco_original - desconto\n",
        "    return round(preco_final, 2)\n",
        "\n",
        "# Interação com o usuário\n",
        "preco = float(input(\"Digite o preço original do produto: R$ \"))\n",
        "desconto = float(input(\"Digite a porcentagem de desconto: \"))\n",
        "\n",
        "preco_com_desconto = calcular_preco_com_desconto(preco, desconto)\n",
        "\n",
        "print(f\"O preço final com desconto é: R$ {preco_com_desconto:.2f}\")"
      ],
      "metadata": {
        "colab": {
          "base_uri": "https://localhost:8080/"
        },
        "id": "L3TVjFcAjKBm",
        "outputId": "a80e5981-3a87-4856-f4a6-5112c81deeaf"
      },
      "execution_count": 4,
      "outputs": [
        {
          "output_type": "stream",
          "name": "stdout",
          "text": [
            "Digite o preço original do produto: R$ 5\n",
            "Digite a porcentagem de desconto: 1\n",
            "O preço final com desconto é: R$ 4.95\n"
          ]
        }
      ]
    },
    {
      "cell_type": "code",
      "source": [
        "from datetime import datetime\n",
        "\n",
        "def calcular_dias_vivo(data_nascimento):\n",
        "    hoje = datetime.today()\n",
        "    nascimento = datetime.strptime(data_nascimento, \"%d/%m/%Y\")\n",
        "    dias_vivo = (hoje - nascimento).days\n",
        "    return dias_vivo\n",
        "\n",
        "# Interação com o usuário\n",
        "data = input(\"Digite sua data de nascimento (DD/MM/AAAA): \")\n",
        "\n",
        "try:\n",
        "    dias = calcular_dias_vivo(data)\n",
        "    print(f\"Você está vivo há {dias} dias.\")\n",
        "except ValueError:\n",
        "    print(\"Data inválida. Use o formato DD/MM/AAAA.\")"
      ],
      "metadata": {
        "colab": {
          "base_uri": "https://localhost:8080/"
        },
        "id": "CzWSwcQqjddR",
        "outputId": "6a7b41ff-715f-4890-f912-e74864cfadab"
      },
      "execution_count": 5,
      "outputs": [
        {
          "output_type": "stream",
          "name": "stdout",
          "text": [
            "Digite sua data de nascimento (DD/MM/AAAA): 19/5/1990\n",
            "Você está vivo há 12856 dias.\n"
          ]
        }
      ]
    }
  ]
}