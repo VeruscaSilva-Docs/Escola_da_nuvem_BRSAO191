{
  "nbformat": 4,
  "nbformat_minor": 0,
  "metadata": {
    "colab": {
      "provenance": [],
      "authorship_tag": "ABX9TyPI+JswFXb3H8cpERBnJVND",
      "include_colab_link": true
    },
    "kernelspec": {
      "name": "python3",
      "display_name": "Python 3"
    },
    "language_info": {
      "name": "python"
    }
  },
  "cells": [
    {
      "cell_type": "markdown",
      "metadata": {
        "id": "view-in-github",
        "colab_type": "text"
      },
      "source": [
        "<a href=\"https://colab.research.google.com/github/VeruscaSilva-Docs/Escola_da_nuvem_BRSAO191/blob/main/Atividade3.ipynb\" target=\"_parent\"><img src=\"https://colab.research.google.com/assets/colab-badge.svg\" alt=\"Open In Colab\"/></a>"
      ]
    },
    {
      "cell_type": "markdown",
      "source": [
        "1-Crie um programa que solicite a idade do usuário e classifique-o\n",
        "em uma das seguintes categorias:\n",
        "\n",
        "*Criança (0-12 anos),\n",
        "*Adolescente (13-17 anos),\n",
        "*Adulto (18-59 anos) ou\n",
        "*Idoso (60 anos ou mais)."
      ],
      "metadata": {
        "id": "HoY2CIcANUZ9"
      }
    },
    {
      "cell_type": "code",
      "execution_count": 1,
      "metadata": {
        "colab": {
          "base_uri": "https://localhost:8080/"
        },
        "id": "ypQGCn3gNGD0",
        "outputId": "211c792c-3970-4e47-c057-1cd758bb7344"
      },
      "outputs": [
        {
          "output_type": "stream",
          "name": "stdout",
          "text": [
            "Digite sua idade: 12\n",
            "Você é uma Criança.\n"
          ]
        }
      ],
      "source": [
        "idade = int(input(\"Digite sua idade: \"))\n",
        "\n",
        "if idade >= 0 and idade <= 12:\n",
        "    print(\"Você é uma Criança.\")\n",
        "elif idade >= 13 and idade <= 17:\n",
        "    print(\"Você é um Adolescente.\")\n",
        "elif idade >= 18 and idade <= 59:\n",
        "    print(\"Você é um Adulto.\")\n",
        "elif idade >= 60:\n",
        "    print(\"Você é um Idoso.\")\n",
        "else:\n",
        "    print(\"Idade inválida.\")"
      ]
    },
    {
      "cell_type": "markdown",
      "source": [
        "2- Calculadora de IMC\n",
        "\n",
        "Desenvolva um programa que calcule o Índice de Massa Corporal (IMC) de uma pessoa.\n",
        "O programa deve solicitar o peso (em kg) e a altura (em metros) do usuário,\n",
        "calcular o IMC e fornecer a classificação de acordo com a tabela padrão de IMC.\n",
        "\n",
        "< 18.5: classificacao = \"Abaixo do peso\"\n",
        "< 25: classificacao = \"Peso normal\"\n",
        "< 30: classificacao = \"Sobrepeso\"\n",
        "Para os demais cenários: classificacao = \"Obeso\""
      ],
      "metadata": {
        "id": "97PAWc0dNbbp"
      }
    },
    {
      "cell_type": "code",
      "source": [
        "peso = float(input(\"Digite seu peso em kg: \"))\n",
        "altura = float(input(\"Digite sua altura em metros: \"))\n",
        "\n",
        "imc = peso / (altura ** 2)\n",
        "\n",
        "print(f\"Seu IMC é: {imc:.2f}\")\n",
        "\n",
        "if imc < 18.5:\n",
        "    print(\"Classificação: Abaixo do peso\")\n",
        "elif imc < 25:\n",
        "    print(\"Classificação: Peso normal\")\n",
        "elif imc < 30:\n",
        "    print(\"Classificação: Sobrepeso\")\n",
        "else:\n",
        "    print(\"Classificação: Obeso\")"
      ],
      "metadata": {
        "colab": {
          "base_uri": "https://localhost:8080/"
        },
        "id": "yJ9X3BzRNa_o",
        "outputId": "2bc563d4-a9b6-4606-e530-9a47beb3ecca"
      },
      "execution_count": 3,
      "outputs": [
        {
          "output_type": "stream",
          "name": "stdout",
          "text": [
            "Digite seu peso em kg: 69\n",
            "Digite sua altura em metros: 1.56\n",
            "Seu IMC é: 28.35\n",
            "Classificação: Sobrepeso\n"
          ]
        }
      ]
    },
    {
      "cell_type": "markdown",
      "source": [
        "3- Conversor de Temperatura\n",
        "Crie um programa que converta temperaturas entre Celsius, Fahrenheit e Kelvin.\n",
        "O usuário deve informar a temperatura, a unidade de origem e a unidade para qual deseja converter.\n"
      ],
      "metadata": {
        "id": "8txY-p0yNzFA"
      }
    },
    {
      "cell_type": "code",
      "source": [
        "# Entrada de dados\n",
        "temperatura = float(input(\"Digite a temperatura: \"))\n",
        "origem = input(\"Informe a unidade de origem (C, F, K): \").upper()\n",
        "destino = input(\"Informe a unidade de destino (C, F, K): \").upper()\n",
        "\n",
        "# Conversão\n",
        "resultado = None\n",
        "\n",
        "if origem == \"C\":\n",
        "    if destino == \"F\":\n",
        "        resultado = (temperatura * 9/5) + 32\n",
        "    elif destino == \"K\":\n",
        "        resultado = temperatura + 273.15\n",
        "    elif destino == \"C\":\n",
        "        resultado = temperatura\n",
        "\n",
        "elif origem == \"F\":\n",
        "    if destino == \"C\":\n",
        "        resultado = (temperatura - 32) * 5/9\n",
        "    elif destino == \"K\":\n",
        "        resultado = (temperatura - 32) * 5/9 + 273.15\n",
        "    elif destino == \"F\":\n",
        "        resultado = temperatura\n",
        "\n",
        "elif origem == \"K\":\n",
        "    if destino == \"C\":\n",
        "        resultado = temperatura - 273.15\n",
        "    elif destino == \"F\":\n",
        "        resultado = (temperatura - 273.15) * 9/5 + 32\n",
        "    elif destino == \"K\":\n",
        "        resultado = temperatura\n",
        "\n",
        "# Saída\n",
        "if resultado is not None:\n",
        "    print(f\"{temperatura}°{origem} = {resultado:.2f}°{destino}\")\n",
        "else:\n",
        "    print(\"Unidade inválida! Use C, F ou K.\")"
      ],
      "metadata": {
        "colab": {
          "base_uri": "https://localhost:8080/"
        },
        "id": "q3-EUbgsN5eC",
        "outputId": "8683635c-dba0-4137-aeac-2dfd1209b7ee"
      },
      "execution_count": 4,
      "outputs": [
        {
          "output_type": "stream",
          "name": "stdout",
          "text": [
            "Digite a temperatura: 50\n",
            "Informe a unidade de origem (C, F, K): c\n",
            "Informe a unidade de destino (C, F, K): f\n",
            "50.0°C = 122.00°F\n"
          ]
        }
      ]
    },
    {
      "cell_type": "markdown",
      "source": [
        "4- Verificador de Ano Bissexto\n",
        "\n",
        "Faça um programa que determine se um ano inserido pelo usuário é bissexto ou não.\n",
        "Um ano é bissexto se for divisível por 4, exceto anos centenários (divisíveis por 100) que não são divisíveis por 400.\n"
      ],
      "metadata": {
        "id": "pmTAI_peOTLD"
      }
    },
    {
      "cell_type": "code",
      "source": [
        "ano = int(input(\"Digite um ano: \"))\n",
        "\n",
        "if (ano % 4 == 0 and ano % 100 != 0) or (ano % 400 == 0):\n",
        "    print(f\"{ano} é um ano bissexto.\")\n",
        "else:\n",
        "    print(f\"{ano} não é um ano bissexto.\")"
      ],
      "metadata": {
        "colab": {
          "base_uri": "https://localhost:8080/"
        },
        "id": "CCQ7iS_tOV1t",
        "outputId": "d0b1d54e-22e3-4962-e03a-af888417ce39"
      },
      "execution_count": 5,
      "outputs": [
        {
          "output_type": "stream",
          "name": "stdout",
          "text": [
            "Digite um ano: 2025\n",
            "2025 não é um ano bissexto.\n"
          ]
        }
      ]
    }
  ]
}